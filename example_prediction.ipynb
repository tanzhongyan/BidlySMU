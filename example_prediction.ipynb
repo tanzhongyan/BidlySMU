{
 "cells": [
  {
   "cell_type": "markdown",
   "metadata": {},
   "source": [
    "# **BidlySMU Prediction Example using V4**\n",
    "\n",
    "<h2><span style=\"color:red\">NOTE: use at your own descretion.</span></h2>\n",
    "\n",
    "### **Objective**\n",
    "This notebook predicts the minimum and median bid required for courses in the SMU bidding system using a **CatBoost** regression model. The following code is an example of how to run it on your personal computer. **No additional experience is needed** other than setting up the environment.\n",
    "\n",
    "---\n",
    "\n",
    "### **Methodology**\n",
    "The notebook is structured as follows:\n",
    "1. **Clone the Repository**\n",
    "2. **Install Dependencies**\n",
    "3. **Load the Pre-trained Models**\n",
    "4. **Define New Data for Prediction**\n",
    "5. **Predict Using the Models**\n",
    "\n",
    "---\n",
    "\n",
    "### **Data Required (case sensitive)**\n",
    "\n",
    "| **Column Name**                | **Description** |\n",
    "|--------------------------------|-----------------------------------------------------------|\n",
    "| **`Term`**                     | Academic term of the course (1, 2, 3A or 3B). |\n",
    "| **`Description`**              | Name of the course. |\n",
    "| **`Section`**                  | Course section identifier. |\n",
    "| **`Vacancy`**                  | Total available spots in the course. |\n",
    "| **`Before Process Vacancy`**   | Number of available spots **before** the bidding process. |\n",
    "| **`Instructor`**               | Name of the instructor. |\n",
    "| **`Grading Basis`**            | Type of grading (e.g., Graded, Pass/Fail). |\n",
    "| **`class1_day`**               | Day of the week for the first class session. |\n",
    "| **`class1_starttime`**         | Start time for the first class session. |\n",
    "| **`class1_venue`**             | Venue for the first class session. |\n",
    "| **`class2_day`**               | Day of the week for the second class session (if applicable). |\n",
    "| **`class2_starttime`**         | Start time for the second class session. |\n",
    "| **`class2_venue`**             | Venue for the second class session. |\n",
    "| **`class3_day`**               | Day of the week for the third class session (if applicable). |\n",
    "| **`class3_starttime`**         | Start time for the third class session. |\n",
    "| **`class3_venue`**             | Venue for the third class session. |\n",
    "| **`exam_startdate`**           | Date of exam in dd-mmm-yyyy format (e.g. 21-Apr-2025)|\n",
    "| **`exam_day`**                 | Exam day of the week. |\n",
    "| **`exam_starttime`**           | Exam start time. |\n",
    "| **`AY`**                       | Academic year in which the course is offered. |\n",
    "| **`Incoming Freshman`**        | Whether the course is for incoming freshmen (`yes` or `no`). |\n",
    "| **`Incoming Exchange`**        | Whether the course is for incoming exchange students (`yes` or `no`). |\n",
    "| **`Round`**                    | Bidding round (1, 1A, 1B, 1C, 2, 2A). |\n",
    "| **`Window`**                   | Bidding window within the round (1, 2, 3, 4, 5). |\n",
    "| **`SubjectArea`**              | Subject area of the course (e.g., IS, ECON). |\n",
    "| **`CatalogueNo`**              | Course code (e.g., 453). |\n",
    "| **🎯 Target Variables 🎯**      | **Predicted bid prices** |\n",
    "| **`Min Bid`**                  | Minimum bid price required for the course. |\n",
    "| **`Median Bid`**               | Median bid price required for the course. |\n",
    "\n",
    "---"
   ]
  },
  {
   "cell_type": "markdown",
   "metadata": {},
   "source": [
    "### **🛠️ Step 1: Clone the Repository**\n",
    "To get started, **clone the GitHub repository** containing the pre-trained models:\n",
    "\n",
    "```bash\n",
    "git clone https://github.com/tanzhongyan/BidlySMU/\n",
    "cd smu-course-bidding\n",
    "```\n",
    "\n",
    "---"
   ]
  },
  {
   "cell_type": "markdown",
   "metadata": {},
   "source": [
    "### **📥 Step 2: Install Dependencies**\n",
    "Ensure you have **Python 3.8 or newer** installed. Check with:\n",
    "\n",
    "```bash\n",
    "python --version\n",
    "```\n",
    "\n",
    "Then, install all required dependencies from `requirements.txt`:\n",
    "\n",
    "```bash\n",
    "pip install -r requirements.txt\n",
    "```\n",
    "\n",
    "This will install:\n",
    "- **Pandas**\n",
    "- **CatBoost**\n",
    "- **NumPy**\n",
    "- **Other necessary dependencies**\n",
    "\n",
    "---"
   ]
  },
  {
   "cell_type": "markdown",
   "metadata": {},
   "source": [
    "### **📂 Step 3: Load the Pre-trained Models**\n",
    "Since the `.cbm` models are already included in the repo, you can load them directly:"
   ]
  },
  {
   "cell_type": "code",
   "execution_count": 4,
   "metadata": {},
   "outputs": [
    {
     "name": "stdout",
     "output_type": "stream",
     "text": [
      "✅ Models loaded successfully!\n"
     ]
    }
   ],
   "source": [
    "from catboost import CatBoostRegressor\n",
    "\n",
    "# Load the Min Bid Model\n",
    "model_min_bid = CatBoostRegressor()\n",
    "model_min_bid.load_model(\"catboost_min_bid.cbm\")\n",
    "\n",
    "# Load the Median Bid Model\n",
    "model_median_bid = CatBoostRegressor()\n",
    "model_median_bid.load_model(\"catboost_median_bid.cbm\")\n",
    "\n",
    "print(\"✅ Models loaded successfully!\")"
   ]
  },
  {
   "cell_type": "markdown",
   "metadata": {},
   "source": [
    "---\n",
    "\n",
    "### **📊 Step 4: Define New Data for Prediction**\n",
    "Create a new **course entry** in the same format as the training data:"
   ]
  },
  {
   "cell_type": "code",
   "execution_count": 5,
   "metadata": {},
   "outputs": [],
   "source": [
    "import pandas as pd\n",
    "\n",
    "# Define the new data instance\n",
    "new_data = pd.DataFrame({\n",
    "    'Term': [2],\n",
    "    'Description': [\"Enterprise Solution Management\"],\n",
    "    'Section': [\"G1\"],\n",
    "    'Vacancy': [40],\n",
    "    'Before Process Vacancy': [38],\n",
    "    'Instructor': [\"RAFAEL J. BARROS\"],\n",
    "    'Grading Basis': [\"Graded\"],\n",
    "    'class1_day': [\"Mon\"],\n",
    "    'class1_starttime': [\"08:15\"],\n",
    "    'class1_venue': [\"SOE/SCIS2 Seminar Room B1-2\"],\n",
    "    'class2_day': [\"NA\"],\n",
    "    'class2_starttime': [\"NA\"],\n",
    "    'class2_venue': [\"NA\"],\n",
    "    'class3_day': [\"NA\"],\n",
    "    'class3_starttime': [\"NA\"],\n",
    "    'class3_venue': [\"NA\"],\n",
    "    'exam_startdate': [\"21-Apr-2025\"], \n",
    "    'exam_day': [\"Mon\"],\n",
    "    'exam_starttime': [\"13:00\"],\n",
    "    'AY': [2024],\n",
    "    'Incoming Freshman': [\"no\"],\n",
    "    'Incoming Exchange': [\"no\"],\n",
    "    'Round': [\"1\"],\n",
    "    'Window': [1],\n",
    "    'SubjectArea': [\"IS\"],\n",
    "    'CatalogueNo': [\"214\"],\n",
    "})"
   ]
  },
  {
   "cell_type": "markdown",
   "metadata": {},
   "source": [
    "Run the **transformation script** below to help with standardisation"
   ]
  },
  {
   "cell_type": "code",
   "execution_count": 6,
   "metadata": {},
   "outputs": [],
   "source": [
    "# Ensure proper data types for all columns\n",
    "def standardise_data_types(data):\n",
    "    # Ensure categorical columns are properly typed\n",
    "\n",
    "    categorical_cols = [\n",
    "        'Term','Description','Section',\n",
    "        'Instructor','Grading Basis','class1_day','class1_starttime','class1_venue',\n",
    "        'class2_day','class2_starttime','class2_venue','class3_day','class3_starttime',\n",
    "        'class3_venue','exam_startdate','exam_day','exam_starttime',\n",
    "        'Incoming Freshman','Incoming Exchange','Round','SubjectArea','CatalogueNo'\n",
    "    ]\n",
    "    for col in categorical_cols:\n",
    "        data[col] = data[col].astype('object')\n",
    "\n",
    "    # Convert date columns to datetime\n",
    "    data['exam_startdate'] = pd.to_datetime(data['exam_startdate'], errors='coerce')\n",
    "\n",
    "    # Extract year and month from `exam_startdate`\n",
    "    data['exam_date'] = data['exam_startdate'].dt.day\n",
    "    data['exam_month'] = data['exam_startdate'].dt.month\n",
    "\n",
    "    # Drop the original `exam_startdate` column\n",
    "    data = data.drop(columns=['exam_startdate'])\n",
    "\n",
    "    # Extract year and month from `exam_startdate`\n",
    "    data['exam_date'] = data['exam_date'].fillna(0).astype(int)\n",
    "    data['exam_month'] = data['exam_month'].fillna(0).astype(int)\n",
    "\n",
    "    return data"
   ]
  },
  {
   "cell_type": "code",
   "execution_count": 7,
   "metadata": {},
   "outputs": [],
   "source": [
    "new_data_preprocessed = standardise_data_types(new_data)"
   ]
  },
  {
   "cell_type": "markdown",
   "metadata": {},
   "source": [
    "As all \"NA\" is automatically converted to 'NaN', we will have to convert it back to \"NA\" again as **catboost does not accept null values**."
   ]
  },
  {
   "cell_type": "code",
   "execution_count": 8,
   "metadata": {},
   "outputs": [],
   "source": [
    "new_data_preprocessed = new_data_preprocessed.fillna(\"NA\")"
   ]
  },
  {
   "cell_type": "markdown",
   "metadata": {},
   "source": [
    "---\n",
    "\n",
    "### **📌 Step 5: Predict Using the Model**\n",
    "Ensure the column order matches the training data:"
   ]
  },
  {
   "cell_type": "code",
   "execution_count": 9,
   "metadata": {},
   "outputs": [
    {
     "name": "stdout",
     "output_type": "stream",
     "text": [
      "Predicted Min Bid: 24.65\n",
      "Predicted Median Bid: 34.79\n"
     ]
    }
   ],
   "source": [
    "# Predict Min Bid Price\n",
    "predicted_min_bid = model_min_bid.predict(new_data_preprocessed)[0]\n",
    "\n",
    "# Predict Median Bid Price\n",
    "predicted_median_bid = model_median_bid.predict(new_data_preprocessed)[0]\n",
    "\n",
    "# Print Results\n",
    "print(f\"Predicted Min Bid: {predicted_min_bid:.2f}\")\n",
    "print(f\"Predicted Median Bid: {predicted_median_bid:.2f}\")"
   ]
  },
  {
   "cell_type": "markdown",
   "metadata": {},
   "source": [
    "---\n",
    "\n",
    "### **✅ Summary**\n",
    "🎯 **What we did:**\n",
    "1. **Cloned the repository**, which includes the `.cbm` model files.\n",
    "2. **Installed dependencies** (`requirements.txt`).\n",
    "3. **Loaded the pre-trained models** (`min_bid_model.cbm` & `median_bid_model.cbm`).\n",
    "4. **Created a sample course entry** for prediction.\n",
    "5. **Ran Min Bid & Median Bid predictions**.\n",
    "\n",
    "🔹 **Now you’re ready to predict SMU course bidding prices instantly!** 🚀"
   ]
  }
 ],
 "metadata": {
  "kernelspec": {
   "display_name": "BidlyEnv",
   "language": "python",
   "name": "python3"
  },
  "language_info": {
   "codemirror_mode": {
    "name": "ipython",
    "version": 3
   },
   "file_extension": ".py",
   "mimetype": "text/x-python",
   "name": "python",
   "nbconvert_exporter": "python",
   "pygments_lexer": "ipython3",
   "version": "3.8.20"
  }
 },
 "nbformat": 4,
 "nbformat_minor": 2
}
