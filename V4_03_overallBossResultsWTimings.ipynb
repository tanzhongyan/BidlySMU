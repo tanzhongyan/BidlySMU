{
 "cells": [
  {
   "cell_type": "markdown",
   "metadata": {},
   "source": [
    "# **Merging BOSS Results with Class Timings**\n",
    "\n",
    "<div style=\"background-color:#FFF8DC; padding:12px; border-radius:5px; border: 1px solid #DAA520;\">\n",
    "    \n",
    "  <h2 style=\"color:#8B8000;\">✨ Looking for the Latest Model? Consider V3! ✨</h2>\n",
    "  <p>👉 <a href=\"V3_example_prediction.ipynb\"><strong>Check out V3 Here</strong></a></p>\n",
    "\n",
    "</div>\n",
    "\n",
    "### **Objective**\n",
    "This script merges SMU's **Overall BOSS Results** data with **Class Timings** data for better insights. The merged files are saved in a specified output folder. The process includes:\n",
    "1. Defining folder paths and reading files.\n",
    "2. Filtering relevant columns from the class timings data.\n",
    "3. Merging the datasets based on matching \"Section\" and \"Course Code\".\n",
    "4. Saving the merged files to the output directory.\n",
    "\n",
    "### **Script Structure**\n",
    "1. **Setup**: Define folders and prepare file lists.\n",
    "2. **Filtering and Processing**:\n",
    "    - Extract relevant columns from the `classTimings` files.\n",
    "    - Merge each file with its corresponding `overallBossResults` file.\n",
    "3. **Save Outputs**: Write the merged data to CSV files."
   ]
  },
  {
   "cell_type": "markdown",
   "metadata": {},
   "source": [
    "\n",
    "---\n",
    "### 1. Setup"
   ]
  },
  {
   "cell_type": "code",
   "execution_count": 1,
   "metadata": {},
   "outputs": [],
   "source": [
    "import os\n",
    "import pandas as pd"
   ]
  },
  {
   "cell_type": "code",
   "execution_count": 16,
   "metadata": {},
   "outputs": [],
   "source": [
    "# Define folder paths\n",
    "class_timings_folder = \"classTimings\"\n",
    "overall_boss_results_folder = \"overallBossResults\"\n",
    "output_folder = \"overallBossResultsWTimings\""
   ]
  },
  {
   "cell_type": "code",
   "execution_count": 17,
   "metadata": {},
   "outputs": [],
   "source": [
    "# Create output folder if it doesn't exist\n",
    "os.makedirs(output_folder, exist_ok=True)\n",
    "\n",
    "# List all files in the respective folders\n",
    "class_timings_files = {file.replace(\"AddedInfo\", \"\").replace(\".csv\", \"\"): os.path.join(class_timings_folder, file)\n",
    "                       for file in os.listdir(class_timings_folder) if file.endswith(\".csv\")}\n",
    "\n",
    "overall_boss_results_files = {file.replace(\".xls\", \"\"): os.path.join(overall_boss_results_folder, file)\n",
    "                              for file in os.listdir(overall_boss_results_folder) if file.endswith(\".xls\")}"
   ]
  },
  {
   "cell_type": "code",
   "execution_count": 18,
   "metadata": {},
   "outputs": [
    {
     "data": {
      "text/plain": [
       "{'2021-22_T1': 'classTimings\\\\2021-22_T1AddedInfo.csv',\n",
       " '2021-22_T2': 'classTimings\\\\2021-22_T2AddedInfo.csv',\n",
       " '2021-22_T3A': 'classTimings\\\\2021-22_T3AAddedInfo.csv',\n",
       " '2021-22_T3B': 'classTimings\\\\2021-22_T3BAddedInfo.csv',\n",
       " '2022-23_T1': 'classTimings\\\\2022-23_T1AddedInfo.csv',\n",
       " '2022-23_T2': 'classTimings\\\\2022-23_T2AddedInfo.csv',\n",
       " '2022-23_T3A': 'classTimings\\\\2022-23_T3AAddedInfo.csv',\n",
       " '2022-23_T3B': 'classTimings\\\\2022-23_T3BAddedInfo.csv',\n",
       " '2023-24_T1': 'classTimings\\\\2023-24_T1AddedInfo.csv',\n",
       " '2023-24_T2': 'classTimings\\\\2023-24_T2AddedInfo.csv',\n",
       " '2023-24_T3A': 'classTimings\\\\2023-24_T3AAddedInfo.csv',\n",
       " '2023-24_T3B': 'classTimings\\\\2023-24_T3BAddedInfo.csv',\n",
       " '2024-25_T1': 'classTimings\\\\2024-25_T1AddedInfo.csv',\n",
       " '2024-25_T2': 'classTimings\\\\2024-25_T2AddedInfo.csv',\n",
       " '2024-25_T3A': 'classTimings\\\\2024-25_T3AAddedInfo.csv',\n",
       " '2024-25_T3B': 'classTimings\\\\2024-25_T3BAddedInfo.csv'}"
      ]
     },
     "execution_count": 18,
     "metadata": {},
     "output_type": "execute_result"
    }
   ],
   "source": [
    "class_timings_files"
   ]
  },
  {
   "cell_type": "code",
   "execution_count": 19,
   "metadata": {},
   "outputs": [
    {
     "data": {
      "text/plain": [
       "{'2021-22_T2': 'overallBossResults\\\\2021-22_T2.xls',\n",
       " '2021-22_T3B': 'overallBossResults\\\\2021-22_T3B.xls',\n",
       " '2022-23_T1': 'overallBossResults\\\\2022-23_T1.xls',\n",
       " '2022-23_T2': 'overallBossResults\\\\2022-23_T2.xls',\n",
       " '2022-23_T3A': 'overallBossResults\\\\2022-23_T3A.xls',\n",
       " '2022-23_T3B': 'overallBossResults\\\\2022-23_T3B.xls',\n",
       " '2023-24_T1': 'overallBossResults\\\\2023-24_T1.xls',\n",
       " '2023-24_T2': 'overallBossResults\\\\2023-24_T2.xls',\n",
       " '2023-24_T3A': 'overallBossResults\\\\2023-24_T3A.xls',\n",
       " '2023-24_T3B': 'overallBossResults\\\\2023-24_T3B.xls',\n",
       " '2024-25_T1': 'overallBossResults\\\\2024-25_T1.xls',\n",
       " '2024-25_T2': 'overallBossResults\\\\2024-25_T2.xls'}"
      ]
     },
     "execution_count": 19,
     "metadata": {},
     "output_type": "execute_result"
    }
   ],
   "source": [
    "overall_boss_results_files"
   ]
  },
  {
   "cell_type": "markdown",
   "metadata": {},
   "source": [
    "\n",
    "---\n",
    "### 2. Filtering and Processing"
   ]
  },
  {
   "cell_type": "code",
   "execution_count": 23,
   "metadata": {},
   "outputs": [
    {
     "name": "stdout",
     "output_type": "stream",
     "text": [
      "Merged file created for term: 2021-22_T2\n",
      "Merged file created for term: 2021-22_T3B\n",
      "Merged file created for term: 2022-23_T1\n",
      "Merged file created for term: 2022-23_T2\n",
      "Merged file created for term: 2022-23_T3A\n",
      "Merged file created for term: 2022-23_T3B\n",
      "Merged file created for term: 2023-24_T1\n",
      "Merged file created for term: 2023-24_T2\n",
      "Merged file created for term: 2023-24_T3A\n",
      "Merged file created for term: 2023-24_T3B\n",
      "Merged file created for term: 2024-25_T1\n",
      "Merged file created for term: 2024-25_T2\n",
      "Merging complete. Files are stored in the 'overallBossResultsWTimings' folder.\n"
     ]
    }
   ],
   "source": [
    "# Relevant columns to keep from classTimings\n",
    "relevant_columns = [\n",
    "    \"Section\", \"Course Code\", \"Grading Basis\", \"class1_day\", \"class1_starttime\", \"class1_venue\",\n",
    "    \"class2_day\", \"class2_starttime\", \"class2_venue\", \"class3_day\", \"class3_starttime\", \n",
    "    \"class3_venue\", \"exam_startdate\", \"exam_day\", \"exam_starttime\"\n",
    "] #Ignored \"SelectedClassNumber\" and \"SelectedAcadTerm\" as these are randomised values used by BOSS.\n",
    "\n",
    "# Process and merge the files\n",
    "for term, boss_file_path in overall_boss_results_files.items():\n",
    "    if term in class_timings_files:\n",
    "        # Load data from the files\n",
    "        boss_data = pd.read_excel(boss_file_path)\n",
    "        class_data = pd.read_csv(class_timings_files[term])\n",
    "        \n",
    "        # Keep only relevant columns for classTimings\n",
    "        class_data_filtered = class_data[relevant_columns]\n",
    "        \n",
    "        # Merge the data on \"Section\" and \"Course Code\"\n",
    "        merged_data = pd.merge(boss_data, class_data_filtered, on=[\"Section\", \"Course Code\"], how=\"left\")\n",
    "        \n",
    "        # Save the merged file to the output folder\n",
    "        output_path = os.path.join(output_folder, f\"{term}_Merged.csv\")\n",
    "        merged_data.to_csv(output_path, index=False)\n",
    "        print(f\"Merged file created for term: {term}\")\n",
    "    else:\n",
    "        print(f\"No matching class timings file for term: {term}\")"
   ]
  },
  {
   "cell_type": "markdown",
   "metadata": {},
   "source": [
    "\n",
    "---\n",
    "### 3. Save Outputs"
   ]
  },
  {
   "cell_type": "code",
   "execution_count": null,
   "metadata": {},
   "outputs": [],
   "source": [
    "# Confirm completion\n",
    "print(f\"Merging complete. Files are stored in the '{output_folder}' folder.\")"
   ]
  },
  {
   "cell_type": "markdown",
   "metadata": {},
   "source": [
    "---\n",
    "\n",
    "### **Output**\n",
    "The merged files are saved in the `overallBossResultsWTimings` folder with the naming convention: `<term>_Merged.csv`.\n",
    "\n",
    "---\n",
    "\n",
    "### **Notes**\n",
    "1. Ensure that folder paths (`classTimings` and `overallBossResults`) contain the necessary files.\n",
    "2. The script assumes that files in both folders have consistent naming conventions for matching terms.\n",
    "3. Any unmatched terms between the two folders will be logged in the output console."
   ]
  }
 ],
 "metadata": {
  "kernelspec": {
   "display_name": "BidlyEnv",
   "language": "python",
   "name": "python3"
  },
  "language_info": {
   "codemirror_mode": {
    "name": "ipython",
    "version": 3
   },
   "file_extension": ".py",
   "mimetype": "text/x-python",
   "name": "python",
   "nbconvert_exporter": "python",
   "pygments_lexer": "ipython3",
   "version": "3.8.20"
  }
 },
 "nbformat": 4,
 "nbformat_minor": 2
}
